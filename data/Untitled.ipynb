{
 "cells": [
  {
   "cell_type": "code",
   "execution_count": null,
   "id": "bfedb2eb-db15-4238-9721-e7809b89f124",
   "metadata": {
    "tags": []
   },
   "outputs": [],
   "source": [
    "import pandas as pd\n",
    "import numpy as np\n",
    "import seaborn as sns"
   ]
  },
  {
   "cell_type": "code",
   "execution_count": null,
   "id": "5b9a10dd-bcde-49b6-a5b0-86199db19fe9",
   "metadata": {
    "tags": []
   },
   "outputs": [],
   "source": [
    "ic_df = pd.read_csv(\"https://raw.githubusercontent.com/koliyaaharon/EDA-project/main/data/India%20Agriculture%20Crop%20Production.csv\")\n",
    "f = ic_df.copy()\n",
    "f"
   ]
  },
  {
   "cell_type": "code",
   "execution_count": null,
   "id": "36e6f6d9-b6b5-4ae7-9d35-b832faba6317",
   "metadata": {},
   "outputs": [],
   "source": []
  },
  {
   "cell_type": "code",
   "execution_count": null,
   "id": "6463dab6-c89b-4675-942c-3085b4d78b0b",
   "metadata": {},
   "outputs": [],
   "source": []
  }
 ],
 "metadata": {
  "kernelspec": {
   "display_name": "Python 3 (ipykernel)",
   "language": "python",
   "name": "python3"
  },
  "language_info": {
   "codemirror_mode": {
    "name": "ipython",
    "version": 3
   },
   "file_extension": ".py",
   "mimetype": "text/x-python",
   "name": "python",
   "nbconvert_exporter": "python",
   "pygments_lexer": "ipython3",
   "version": "3.11.5"
  }
 },
 "nbformat": 4,
 "nbformat_minor": 5
}
