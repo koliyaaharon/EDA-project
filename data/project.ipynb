{
 "cells": [
  {
   "cell_type": "markdown",
   "id": "252eb120-9889-470c-8f4c-24092cc1610a",
   "metadata": {
    "tags": []
   },
   "source": [
    "# DA Final Project:\n",
    "\n",
    "## Group: India Agriculture Crop Production\n",
    "\n",
    "### Names of students:\n",
    "Ateret Bass <br>\n",
    "Koliya Aharon"
   ]
  },
  {
   "cell_type": "code",
   "execution_count": 20,
   "id": "05ff69b1-e4c6-4267-8fbe-c4dcdba10fde",
   "metadata": {
    "tags": []
   },
   "outputs": [],
   "source": [
    "import pandas as pd\n",
    "import numpy as np\n",
    "import seaborn as sns\n",
    "import plotly.express as px"
   ]
  },
  {
   "cell_type": "code",
   "execution_count": 21,
   "id": "7c656643-744c-482f-8ec1-164331483fe5",
   "metadata": {
    "tags": []
   },
   "outputs": [
    {
     "data": {
      "text/html": [
       "<div>\n",
       "<style scoped>\n",
       "    .dataframe tbody tr th:only-of-type {\n",
       "        vertical-align: middle;\n",
       "    }\n",
       "\n",
       "    .dataframe tbody tr th {\n",
       "        vertical-align: top;\n",
       "    }\n",
       "\n",
       "    .dataframe thead th {\n",
       "        text-align: right;\n",
       "    }\n",
       "</style>\n",
       "<table border=\"1\" class=\"dataframe\">\n",
       "  <thead>\n",
       "    <tr style=\"text-align: right;\">\n",
       "      <th></th>\n",
       "      <th>State</th>\n",
       "      <th>District</th>\n",
       "      <th>Crop</th>\n",
       "      <th>Year</th>\n",
       "      <th>Season</th>\n",
       "      <th>Area</th>\n",
       "      <th>Area Units</th>\n",
       "      <th>Production</th>\n",
       "      <th>Production Units</th>\n",
       "      <th>Yield</th>\n",
       "    </tr>\n",
       "  </thead>\n",
       "  <tbody>\n",
       "    <tr>\n",
       "      <th>0</th>\n",
       "      <td>Andaman and Nicobar Islands</td>\n",
       "      <td>NICOBARS</td>\n",
       "      <td>Arecanut</td>\n",
       "      <td>2001-02</td>\n",
       "      <td>Kharif</td>\n",
       "      <td>1254.0</td>\n",
       "      <td>Hectare</td>\n",
       "      <td>2061.0</td>\n",
       "      <td>Tonnes</td>\n",
       "      <td>1.643541</td>\n",
       "    </tr>\n",
       "    <tr>\n",
       "      <th>1</th>\n",
       "      <td>Andaman and Nicobar Islands</td>\n",
       "      <td>NICOBARS</td>\n",
       "      <td>Arecanut</td>\n",
       "      <td>2002-03</td>\n",
       "      <td>Whole Year</td>\n",
       "      <td>1258.0</td>\n",
       "      <td>Hectare</td>\n",
       "      <td>2083.0</td>\n",
       "      <td>Tonnes</td>\n",
       "      <td>1.655803</td>\n",
       "    </tr>\n",
       "    <tr>\n",
       "      <th>2</th>\n",
       "      <td>Andaman and Nicobar Islands</td>\n",
       "      <td>NICOBARS</td>\n",
       "      <td>Arecanut</td>\n",
       "      <td>2003-04</td>\n",
       "      <td>Whole Year</td>\n",
       "      <td>1261.0</td>\n",
       "      <td>Hectare</td>\n",
       "      <td>1525.0</td>\n",
       "      <td>Tonnes</td>\n",
       "      <td>1.209358</td>\n",
       "    </tr>\n",
       "    <tr>\n",
       "      <th>3</th>\n",
       "      <td>Andaman and Nicobar Islands</td>\n",
       "      <td>NORTH AND MIDDLE ANDAMAN</td>\n",
       "      <td>Arecanut</td>\n",
       "      <td>2001-02</td>\n",
       "      <td>Kharif</td>\n",
       "      <td>3100.0</td>\n",
       "      <td>Hectare</td>\n",
       "      <td>5239.0</td>\n",
       "      <td>Tonnes</td>\n",
       "      <td>1.690000</td>\n",
       "    </tr>\n",
       "    <tr>\n",
       "      <th>4</th>\n",
       "      <td>Andaman and Nicobar Islands</td>\n",
       "      <td>SOUTH ANDAMANS</td>\n",
       "      <td>Arecanut</td>\n",
       "      <td>2002-03</td>\n",
       "      <td>Whole Year</td>\n",
       "      <td>3105.0</td>\n",
       "      <td>Hectare</td>\n",
       "      <td>5267.0</td>\n",
       "      <td>Tonnes</td>\n",
       "      <td>1.696296</td>\n",
       "    </tr>\n",
       "    <tr>\n",
       "      <th>...</th>\n",
       "      <td>...</td>\n",
       "      <td>...</td>\n",
       "      <td>...</td>\n",
       "      <td>...</td>\n",
       "      <td>...</td>\n",
       "      <td>...</td>\n",
       "      <td>...</td>\n",
       "      <td>...</td>\n",
       "      <td>...</td>\n",
       "      <td>...</td>\n",
       "    </tr>\n",
       "    <tr>\n",
       "      <th>345402</th>\n",
       "      <td>Manipur</td>\n",
       "      <td>IMPHAL WEST</td>\n",
       "      <td>NaN</td>\n",
       "      <td>2019-20</td>\n",
       "      <td>Rabi</td>\n",
       "      <td>NaN</td>\n",
       "      <td>Hectare</td>\n",
       "      <td>NaN</td>\n",
       "      <td>Tonnes</td>\n",
       "      <td>NaN</td>\n",
       "    </tr>\n",
       "    <tr>\n",
       "      <th>345403</th>\n",
       "      <td>Manipur</td>\n",
       "      <td>SENAPATI</td>\n",
       "      <td>NaN</td>\n",
       "      <td>2019-20</td>\n",
       "      <td>Rabi</td>\n",
       "      <td>NaN</td>\n",
       "      <td>Hectare</td>\n",
       "      <td>NaN</td>\n",
       "      <td>Tonnes</td>\n",
       "      <td>NaN</td>\n",
       "    </tr>\n",
       "    <tr>\n",
       "      <th>345404</th>\n",
       "      <td>Manipur</td>\n",
       "      <td>TAMENGLONG</td>\n",
       "      <td>NaN</td>\n",
       "      <td>2019-20</td>\n",
       "      <td>Rabi</td>\n",
       "      <td>NaN</td>\n",
       "      <td>Hectare</td>\n",
       "      <td>NaN</td>\n",
       "      <td>Tonnes</td>\n",
       "      <td>NaN</td>\n",
       "    </tr>\n",
       "    <tr>\n",
       "      <th>345405</th>\n",
       "      <td>Manipur</td>\n",
       "      <td>THOUBAL</td>\n",
       "      <td>NaN</td>\n",
       "      <td>2019-20</td>\n",
       "      <td>Rabi</td>\n",
       "      <td>NaN</td>\n",
       "      <td>Hectare</td>\n",
       "      <td>NaN</td>\n",
       "      <td>Tonnes</td>\n",
       "      <td>NaN</td>\n",
       "    </tr>\n",
       "    <tr>\n",
       "      <th>345406</th>\n",
       "      <td>Manipur</td>\n",
       "      <td>UKHRUL</td>\n",
       "      <td>NaN</td>\n",
       "      <td>2019-20</td>\n",
       "      <td>Rabi</td>\n",
       "      <td>NaN</td>\n",
       "      <td>Hectare</td>\n",
       "      <td>NaN</td>\n",
       "      <td>Tonnes</td>\n",
       "      <td>NaN</td>\n",
       "    </tr>\n",
       "  </tbody>\n",
       "</table>\n",
       "<p>345407 rows × 10 columns</p>\n",
       "</div>"
      ],
      "text/plain": [
       "                              State                  District      Crop  \\\n",
       "0       Andaman and Nicobar Islands                  NICOBARS  Arecanut   \n",
       "1       Andaman and Nicobar Islands                  NICOBARS  Arecanut   \n",
       "2       Andaman and Nicobar Islands                  NICOBARS  Arecanut   \n",
       "3       Andaman and Nicobar Islands  NORTH AND MIDDLE ANDAMAN  Arecanut   \n",
       "4       Andaman and Nicobar Islands            SOUTH ANDAMANS  Arecanut   \n",
       "...                             ...                       ...       ...   \n",
       "345402                      Manipur               IMPHAL WEST       NaN   \n",
       "345403                      Manipur                  SENAPATI       NaN   \n",
       "345404                      Manipur                TAMENGLONG       NaN   \n",
       "345405                      Manipur                   THOUBAL       NaN   \n",
       "345406                      Manipur                    UKHRUL       NaN   \n",
       "\n",
       "           Year      Season    Area Area Units  Production Production Units  \\\n",
       "0       2001-02      Kharif  1254.0    Hectare      2061.0           Tonnes   \n",
       "1       2002-03  Whole Year  1258.0    Hectare      2083.0           Tonnes   \n",
       "2       2003-04  Whole Year  1261.0    Hectare      1525.0           Tonnes   \n",
       "3       2001-02      Kharif  3100.0    Hectare      5239.0           Tonnes   \n",
       "4       2002-03  Whole Year  3105.0    Hectare      5267.0           Tonnes   \n",
       "...         ...         ...     ...        ...         ...              ...   \n",
       "345402  2019-20        Rabi     NaN    Hectare         NaN           Tonnes   \n",
       "345403  2019-20        Rabi     NaN    Hectare         NaN           Tonnes   \n",
       "345404  2019-20        Rabi     NaN    Hectare         NaN           Tonnes   \n",
       "345405  2019-20        Rabi     NaN    Hectare         NaN           Tonnes   \n",
       "345406  2019-20        Rabi     NaN    Hectare         NaN           Tonnes   \n",
       "\n",
       "           Yield  \n",
       "0       1.643541  \n",
       "1       1.655803  \n",
       "2       1.209358  \n",
       "3       1.690000  \n",
       "4       1.696296  \n",
       "...          ...  \n",
       "345402       NaN  \n",
       "345403       NaN  \n",
       "345404       NaN  \n",
       "345405       NaN  \n",
       "345406       NaN  \n",
       "\n",
       "[345407 rows x 10 columns]"
      ]
     },
     "execution_count": 21,
     "metadata": {},
     "output_type": "execute_result"
    }
   ],
   "source": [
    "df = pd.read_csv(\"https://raw.githubusercontent.com/koliyaaharon/EDA-project/main/data/India%20Agriculture%20Crop%20Production.csv\")\n",
    "f = df.copy()\n",
    "f"
   ]
  },
  {
   "cell_type": "code",
   "execution_count": 22,
   "id": "3f59293f-55b3-4c0b-a204-41dbab14de51",
   "metadata": {
    "tags": []
   },
   "outputs": [
    {
     "data": {
      "text/plain": [
       "(345407, 10)"
      ]
     },
     "execution_count": 22,
     "metadata": {},
     "output_type": "execute_result"
    }
   ],
   "source": [
    "df.shape"
   ]
  },
  {
   "cell_type": "code",
   "execution_count": 23,
   "id": "8e817329-c1f6-4ef6-8fc1-a803c07e87b2",
   "metadata": {
    "tags": []
   },
   "outputs": [
    {
     "data": {
      "text/plain": [
       "Index(['State', 'District', 'Crop', 'Year', 'Season', 'Area', 'Area Units',\n",
       "       'Production', 'Production Units', 'Yield'],\n",
       "      dtype='object')"
      ]
     },
     "execution_count": 23,
     "metadata": {},
     "output_type": "execute_result"
    }
   ],
   "source": [
    "df.columns"
   ]
  },
  {
   "cell_type": "code",
   "execution_count": 24,
   "id": "e2458037-1dae-40fc-a905-1ea36773d8a3",
   "metadata": {
    "tags": []
   },
   "outputs": [
    {
     "data": {
      "text/plain": [
       "State                object\n",
       "District             object\n",
       "Crop                 object\n",
       "Year                 object\n",
       "Season               object\n",
       "Area                float64\n",
       "Area Units           object\n",
       "Production          float64\n",
       "Production Units     object\n",
       "Yield               float64\n",
       "dtype: object"
      ]
     },
     "execution_count": 24,
     "metadata": {},
     "output_type": "execute_result"
    }
   ],
   "source": [
    "df.dtypes"
   ]
  },
  {
   "cell_type": "code",
   "execution_count": 25,
   "id": "c256acbb-9113-4eff-b6f3-08e3e195d4b3",
   "metadata": {
    "tags": []
   },
   "outputs": [
    {
     "data": {
      "text/plain": [
       "State                  0\n",
       "District               0\n",
       "Year                   0\n",
       "Area Units             0\n",
       "Production Units       0\n",
       "Season                 1\n",
       "Crop                  32\n",
       "Area                  33\n",
       "Yield                 33\n",
       "Production          4993\n",
       "dtype: int64"
      ]
     },
     "execution_count": 25,
     "metadata": {},
     "output_type": "execute_result"
    }
   ],
   "source": [
    "df.isnull().sum().sort_values()"
   ]
  },
  {
   "cell_type": "code",
   "execution_count": 26,
   "id": "e26a6633",
   "metadata": {
    "tags": []
   },
   "outputs": [],
   "source": [
    "#האם יש קשר בין המחוז הגדול ביותר ליבול הנפוץ ביותר?"
   ]
  },
  {
   "cell_type": "code",
   "execution_count": 27,
   "id": "1fe9291a",
   "metadata": {
    "tags": []
   },
   "outputs": [
    {
     "name": "stderr",
     "output_type": "stream",
     "text": [
      "C:\\Users\\Koliya\\AppData\\Local\\Temp\\ipykernel_28708\\697016796.py:6: UserWarning: Matplotlib is currently using module://matplotlib_inline.backend_inline, which is a non-GUI backend, so cannot show the figure.\n",
      "  plot.figure.show()\n"
     ]
    },
    {
     "data": {
      "image/png": "[encoded data removed]",
      "text/plain": [
       "<Figure size 640x480 with 1 Axes>"
      ]
     },
     "metadata": {},
     "output_type": "display_data"
    }
   ],
   "source": [
    "# מצא את עשרת היבולים הנפוצים ביותר\n",
    "crop_counts = df['Crop'].value_counts().head(10)\n",
    "\n",
    "# יצירת גרף\n",
    "plot = crop_counts.plot(kind='bar', title='עשרת היבולים הנפוצים ביותר', ylabel='מספר מקרים', xlabel='יבול')\n",
    "plot.figure.show()"
   ]
  },
  {
   "cell_type": "code",
   "execution_count": 28,
   "id": "9a8d9240-f5f4-4b37-a957-172ebf73c4e7",
   "metadata": {
    "tags": []
   },
   "outputs": [],
   "source": [
    "pivot_table = df.pivot_table(index='Crop', columns='Season', values='Area', aggfunc='sum')"
   ]
  },
  {
   "cell_type": "code",
   "execution_count": 29,
   "id": "96a222f6-5591-4022-8716-6d13c9c1c684",
   "metadata": {
    "tags": []
   },
   "outputs": [
    {
     "data": {
      "image/png": "[encoded data removed]",
      "text/plain": [
       "<Figure size 1000x600 with 1 Axes>"
      ]
     },
     "metadata": {},
     "output_type": "display_data"
    }
   ],
   "source": [
    "pivot_table.plot(kind='bar', stacked=True, figsize=(10, 6))\n",
    "plt.title('Crop Distribution by Season')\n",
    "plt.xlabel('Crop')\n",
    "plt.ylabel('Area (in units of area)')\n",
    "plt.legend(title='Season')\n",
    "plt.show()"
   ]
  },
  {
   "cell_type": "code",
   "execution_count": 30,
   "id": "ddbbbef9-bdf1-4cad-aa83-26874f4afed6",
   "metadata": {
    "tags": []
   },
   "outputs": [
    {
     "ename": "NameError",
     "evalue": "name 'crop_data_scatter' is not defined",
     "output_type": "error",
     "traceback": [
      "\u001b[1;31m---------------------------------------------------------------------------\u001b[0m",
      "\u001b[1;31mNameError\u001b[0m                                 Traceback (most recent call last)",
      "Cell \u001b[1;32mIn[30], line 1\u001b[0m\n\u001b[1;32m----> 1\u001b[0m sns\u001b[38;5;241m.\u001b[39mhistplot(crop_data_scatter[\u001b[38;5;124m'\u001b[39m\u001b[38;5;124mYield\u001b[39m\u001b[38;5;124m'\u001b[39m], bins\u001b[38;5;241m=\u001b[39m\u001b[38;5;241m20\u001b[39m, kde\u001b[38;5;241m=\u001b[39m\u001b[38;5;28;01mTrue\u001b[39;00m, color\u001b[38;5;241m=\u001b[39m\u001b[38;5;124m'\u001b[39m\u001b[38;5;124mblue\u001b[39m\u001b[38;5;124m'\u001b[39m, label\u001b[38;5;241m=\u001b[39m\u001b[38;5;124m'\u001b[39m\u001b[38;5;124mYield\u001b[39m\u001b[38;5;124m'\u001b[39m)\n\u001b[0;32m      3\u001b[0m \u001b[38;5;66;03m# גרף סטיית תדרים עבור התפוקות\u001b[39;00m\n\u001b[0;32m      4\u001b[0m sns\u001b[38;5;241m.\u001b[39mhistplot(crop_data_scatter[\u001b[38;5;124m'\u001b[39m\u001b[38;5;124mProduction\u001b[39m\u001b[38;5;124m'\u001b[39m], bins\u001b[38;5;241m=\u001b[39m\u001b[38;5;241m20\u001b[39m, kde\u001b[38;5;241m=\u001b[39m\u001b[38;5;28;01mTrue\u001b[39;00m, color\u001b[38;5;241m=\u001b[39m\u001b[38;5;124m'\u001b[39m\u001b[38;5;124mgreen\u001b[39m\u001b[38;5;124m'\u001b[39m, label\u001b[38;5;241m=\u001b[39m\u001b[38;5;124m'\u001b[39m\u001b[38;5;124mProduction\u001b[39m\u001b[38;5;124m'\u001b[39m)\n",
      "\u001b[1;31mNameError\u001b[0m: name 'crop_data_scatter' is not defined"
     ]
    }
   ],
   "source": [
    "sns.histplot(crop_data_scatter['Yield'], bins=20, kde=True, color='blue', label='Yield')\n",
    "\n",
    "# גרף סטיית תדרים עבור התפוקות\n",
    "sns.histplot(crop_data_scatter['Production'], bins=20, kde=True, color='green', label='Production')\n",
    "\n",
    "# הגדרות נוספות לגרף\n",
    "plt.title('Distribution of Yield and Production')\n",
    "plt.xlabel('Value')\n",
    "plt.ylabel('Frequency')\n",
    "plt.legend()\n",
    "\n",
    "# הצגת הגרף\n",
    "plt.show()"
   ]
  },
  {
   "cell_type": "code",
   "execution_count": null,
   "id": "293db7c8-30e4-42e5-a4b3-6c834a516eab",
   "metadata": {
    "tags": []
   },
   "outputs": [],
   "source": [
    "# יצירת מסגרת חדשה\n",
    "plt.figure(figsize=(14, 8))\n",
    "\n",
    "# יצירת גרף סטיית תדרים (heatmap) לפי שנה ומחוז\n",
    "heatmap_data = crop_data_scatter.pivot_table(index='Year', columns='District', values='Yield', aggfunc='mean')\n",
    "sns.heatmap(heatmap_data, cmap='YlGnBu')\n",
    "\n",
    "# הגדרות נוספות לגרף\n",
    "plt.title('Yield by Year and District')\n",
    "plt.xlabel('District')\n",
    "plt.ylabel('Year')\n",
    "\n",
    "# הצגת הגרף\n",
    "plt.show()"
   ]
  },
  {
   "cell_type": "code",
   "execution_count": null,
   "id": "e52454f9-61cf-4825-a7b5-76f94bdd3edf",
   "metadata": {
    "tags": []
   },
   "outputs": [],
   "source": [
    "plt.figure(figsize=(12, 8))\n",
    "\n",
    "# יצירת גרף קווים לכל מחוז\n",
    "for district in crop_data_scatter['District'].unique():\n",
    "    district_data = crop_data_scatter[crop_data_scatter['District'] == district]\n",
    "    plt.plot(district_data['Year'], district_data['Yield'], label=district)\n",
    "\n",
    "# הגדרות נוספות לגרף\n",
    "plt.title('Yield by Year and District')\n",
    "plt.xlabel('Year')\n",
    "plt.ylabel('Yield')\n",
    "plt.legend(loc='upper left', bbox_to_anchor=(1, 1))\n",
    "\n",
    "# הצגת הגרף\n",
    "plt.show()"
   ]
  },
  {
   "cell_type": "code",
   "execution_count": null,
   "id": "78331275-e907-46be-a974-37c9fdc07cad",
   "metadata": {
    "tags": []
   },
   "outputs": [],
   "source": [
    "plt.figure(figsize=(14, 8))\n",
    "\n",
    "# יצירת גרף סטיית תדרים (heatmap) לפי שנה ומחוז עם צבעים שונים\n",
    "sns.heatmap(data=crop_data_scatter.pivot_table(index='Year', columns='District', values='Yield', aggfunc='mean'), cmap='viridis')\n",
    "\n",
    "# הגדרות נוספות לגרף\n",
    "plt.title('Yield by Year and District')\n",
    "plt.xlabel('District')\n",
    "plt.ylabel('Year')\n",
    "\n",
    "# הצגת הגרף\n",
    "plt.show()"
   ]
  },
  {
   "cell_type": "code",
   "execution_count": null,
   "id": "bea2426a-f443-42ba-81d1-0cbd6c8dfac6",
   "metadata": {
    "tags": []
   },
   "outputs": [],
   "source": [
    "# קיבוץ הנתונים לפי שנה ויבול\n",
    "yearly_crop_data = df.groupby(['Year', 'Crop'])['Production'].sum().unstack('Crop')"
   ]
  },
  {
   "cell_type": "code",
   "execution_count": null,
   "id": "0b77a496-db18-400b-b3e9-45efc1025967",
   "metadata": {
    "tags": []
   },
   "outputs": [],
   "source": [
    "yearly_crop_data.plot(kind='line', figsize=(14, 7), marker='o')\n",
    "plt.title('Crop Production Over the Years')\n",
    "plt.xlabel('Year')\n",
    "plt.ylabel('Total Production (Tonnes)')\n",
    "plt.legend(title='Crop', bbox_to_anchor=(1.05, 1), loc='upper left')\n",
    "plt.grid(True)\n",
    "plt.show()"
   ]
  },
  {
   "cell_type": "code",
   "execution_count": null,
   "id": "b1f8638c-d126-4692-b358-54ac9e9e4cf5",
   "metadata": {
    "tags": []
   },
   "outputs": [],
   "source": [
    "# זיהוי היבול עם הייצור המקסימלי והמינימלי בכל שנה\n",
    "max_crop_per_year = yearly_crop_data.idxmax(axis=1)\n",
    "min_crop_per_year = yearly_crop_data.idxmin(axis=1)\n",
    "\n",
    "# ספירת מספר השנים שכל יבול היה המקסימלי והמינימלי\n",
    "max_crop_counts = max_crop_per_year.value_counts()\n",
    "min_crop_counts = min_crop_per_year.value_counts()"
   ]
  },
  {
   "cell_type": "code",
   "execution_count": null,
   "id": "1018d7a0-861e-4c65-a257-bca0c04db6c9",
   "metadata": {
    "tags": []
   },
   "outputs": [],
   "source": [
    "# שרטוט הגרפים\n",
    "fig, ax = plt.subplots(2, 1, figsize=(14, 12))\n",
    "\n",
    "max_crop_counts.plot(kind='bar', ax=ax[0])\n",
    "ax[0].set_title('Crop with Maximum Production (Count per Year)')\n",
    "ax[0].set_xlabel('Crop')\n",
    "ax[0].set_ylabel('Number of Years')\n",
    "\n",
    "min_crop_counts.plot(kind='bar', ax=ax[1])\n",
    "ax[1].set_title('Crop with Minimum Production (Count per Year)')\n",
    "ax[1].set_xlabel('Crop')\n",
    "ax[1].set_ylabel('Number of Years')\n",
    "\n",
    "plt.tight_layout()\n",
    "plt.show()"
   ]
  },
  {
   "cell_type": "code",
   "execution_count": null,
   "id": "506bdc05-1550-48f6-84ec-ac75710646c0",
   "metadata": {
    "tags": []
   },
   "outputs": [],
   "source": [
    "\n",
    "\n",
    "# מחיקת שורות עם ערכי חסר בשדה 'Area'\n",
    "df.dropna(subset=['Area'], inplace=True)\n",
    "\n",
    "# מציאת המחוז עם השטח הגדול ביותר\n",
    "largest_area_district = df.groupby('District')['Area'].max().idxmax()\n",
    "largest_area_value = df.groupby('District')['Area'].max().max()\n",
    "\n",
    "# סינון הנתונים עבור המחוז עם השטח הגדול ביותר\n",
    "largest_area_data = df[df['District'] == largest_area_district]\n",
    "\n",
    "# קיבוץ הנתונים לפי יבול לקבלת ערכי הייצור עבור מחוז זה\n",
    "crop_production_largest_area = largest_area_data.groupby('Crop')['Production'].sum().reset_index()\n",
    "\n",
    "# שרטוט הגרף\n",
    "plt.figure(figsize=(14, 7))\n",
    "sns.barplot(data=crop_production_largest_area, x='Crop', y='Production')\n",
    "plt.title(f'Crop Production in the Largest District ({largest_area_district})')\n",
    "plt.xlabel('Crop')\n",
    "plt.ylabel('Total Production (Tonnes)')\n",
    "plt.xticks(rotation=90)\n",
    "plt.grid(axis='y')\n",
    "plt.tight_layout()\n",
    "plt.show()"
   ]
  },
  {
   "cell_type": "code",
   "execution_count": null,
   "id": "e6ec62e1-3035-453f-8407-7652811fd636",
   "metadata": {
    "tags": []
   },
   "outputs": [],
   "source": [
    "\n",
    "# מחיקת שורות עם ערכי חסר בשדה 'Area' ובשדה 'Production'\n",
    "df.dropna(subset=['Area', 'Production'], inplace=True)\n",
    "\n",
    "# מציאת המחוז עם השטח הגדול ביותר\n",
    "largest_area_district = df.groupby('District')['Area'].max().idxmax()\n",
    "\n",
    "# סינון הנתונים עבור המחוז עם השטח הגדול ביותר\n",
    "largest_area_data = df[df['District'] == largest_area_district]\n",
    "\n",
    "# קיבוץ הנתונים לפי יבול לקבלת ערכי הייצור עבור מחוז זה\n",
    "crop_production_largest_area = largest_area_data.groupby('Crop')['Production'].sum().reset_index()\n",
    "\n",
    "# שרטוט גרף עבור המחוז עם השטח הגדול ביותר\n",
    "plt.figure(figsize=(14, 7))\n",
    "sns.barplot(data=crop_production_largest_area, x='Crop', y='Production')\n",
    "plt.title(f'Crop Production in the Largest District ({largest_area_district})')\n",
    "plt.xlabel('Crop')\n",
    "plt.ylabel('Total Production (Tonnes)')\n",
    "plt.xticks(rotation=90)\n",
    "plt.grid(axis='y')\n",
    "plt.tight_layout()\n",
    "plt.show()\n",
    "\n",
    "# מציאת היבול עם הייצור הגבוה ביותר\n",
    "top_crop = df.groupby('Crop')['Production'].sum().idxmax()\n",
    "\n",
    "# קיבוץ הנתונים לפי מחוז לניתוח השטח והיבול\n",
    "district_area_crop_production = df[df['Crop'] == top_crop].groupby('District')[['Area', 'Production']].sum().reset_index()\n",
    "\n",
    "# שרטוט גרף השוואה בין שטח המחוז לייצור היבול הנפוץ ביותר\n",
    "plt.figure(figsize=(14, 7))\n",
    "sns.scatterplot(data=district_area_crop_production, x='Area', y='Production', hue='District', s=100, palette='viridis')\n",
    "plt.title(f'Relationship Between District Area and Production of Top Crop ({top_crop})')\n",
    "plt.xlabel('Area (Hectares)')\n",
    "plt.ylabel('Total Production (Tonnes)')\n",
    "plt.grid(True)\n",
    "plt.tight_layout()\n",
    "plt.show()"
   ]
  },
  {
   "cell_type": "code",
   "execution_count": null,
   "id": "93047e49-d883-43bd-a88c-84d99bd03aba",
   "metadata": {
    "tags": []
   },
   "outputs": [],
   "source": [
    "# מחיקת שורות עם ערכי חסר בשדה 'Area' ובשדה 'Production'\n",
    "df.dropna(subset=['Area', 'Production'], inplace=True)\n",
    "\n",
    "# מציאת המחוז עם השטח הגדול ביותר\n",
    "largest_area_district = df.groupby('District')['Area'].sum().idxmax()\n",
    "\n",
    "# סינון הנתונים עבור המחוז עם השטח הגדול ביותר\n",
    "largest_area_data = df[df['District'] == largest_area_district]\n",
    "\n",
    "# קיבוץ הנתונים לפי יבול לקבלת ערכי הייצור עבור מחוז זה\n",
    "crop_production_largest_area = largest_area_data.groupby('Crop')['Production'].sum().reset_index()\n",
    "\n",
    "# בחירת 10 הגידולים הנפוצים ביותר\n",
    "top_10_crops = crop_production_largest_area.nlargest(10, 'Production')\n",
    "\n",
    "# שרטוט גרף עבור המחוז עם השטח הגדול ביותר\n",
    "plt.figure(figsize=(14, 7))\n",
    "sns.barplot(data=top_10_crops, x='Crop', y='Production', palette='viridis')\n",
    "plt.title(f'Crop Production in the Largest District ({largest_area_district})')\n",
    "plt.xlabel('Crop')\n",
    "plt.ylabel('Total Production (Tonnes)')\n",
    "plt.xticks(rotation=45, ha='right')\n",
    "plt.grid(axis='y')\n",
    "plt.tight_layout()\n",
    "plt.show()\n",
    "\n",
    "# מציאת היבול עם הייצור הגבוה ביותר\n",
    "top_crop = df.groupby('Crop')['Production'].sum().idxmax()\n",
    "\n",
    "# קיבוץ הנתונים לפי מחוז לניתוח השטח והיבול\n",
    "district_area_crop_production = df[df['Crop'] == top_crop].groupby('District')[['Area', 'Production']].sum().reset_index()\n",
    "\n",
    "# שרטוט גרף השוואה בין שטח המחוז לייצור היבול הנפוץ ביותר\n",
    "plt.figure(figsize=(14, 7))\n",
    "sns.scatterplot(data=district_area_crop_production, x='Area', y='Production', hue='District', s=100, palette='viridis')\n",
    "plt.title(f'Relationship Between District Area and Production of Top Crop ({top_crop})')\n",
    "plt.xlabel('Area (Hectares)')\n",
    "plt.ylabel('Total Production (Tonnes)')\n",
    "plt.grid(True)"
   ]
  },
  {
   "cell_type": "code",
   "execution_count": null,
   "id": "1dd6536f-e5a5-451c-b29f-806e85ea50c6",
   "metadata": {
    "tags": []
   },
   "outputs": [],
   "source": [
    "# מחיקת שורות עם ערכי חסר בשדה 'Area' ובשדה 'Production'\n",
    "df.dropna(subset=['Area', 'Production'], inplace=True)\n",
    "\n",
    "# מציאת המחוז עם השטח הגדול ביותר\n",
    "largest_area_district = df.groupby('District')['Area'].sum().idxmax()\n",
    "\n",
    "# סינון הנתונים עבור המחוז עם השטח הגדול ביותר\n",
    "largest_area_data = df[df['District'] == largest_area_district]\n",
    "\n",
    "# קיבוץ הנתונים לפי יבול לקבלת ערכי הייצור עבור מחוז זה\n",
    "crop_production_largest_area = largest_area_data.groupby('Crop')['Production'].sum().reset_index()\n",
    "\n",
    "# בחירת 10 הגידולים הנפוצים ביותר\n",
    "top_10_crops = crop_production_largest_area.nlargest(10, 'Production')\n",
    "\n",
    "# שרטוט גרף עבור המחוז עם השטח הגדול ביותר\n",
    "plt.figure(figsize=(14, 7))\n",
    "sns.barplot(data=top_10_crops, x='Crop', y='Production', palette='viridis')\n",
    "plt.title(f'Crop Production in the Largest District ({largest_area_district})')\n",
    "plt.xlabel('Crop')\n",
    "plt.ylabel('Total Production (Tonnes)')\n",
    "plt.xticks(rotation=45, ha='right')\n",
    "plt.grid(axis='y')\n",
    "plt.tight_layout()\n",
    "plt.show()\n",
    "\n",
    "# סינון הנתונים עבור עשרת הגידולים הנפוצים ביותר\n",
    "top_10_crop_names = top_10_crops['Crop'].tolist()\n",
    "top_10_crop_data = df[df['Crop'].isin(top_10_crop_names)]\n",
    "\n",
    "# קיבוץ הנתונים לפי יבול ומחוז\n",
    "district_area_crop_production_top_10 = top_10_crop_data.groupby(['District', 'Crop'])[['Area', 'Production']].sum().reset_index()\n",
    "\n",
    "# שרטוט גרף עמודות להשוואה בין שטח המחוז לייצור עבור עשרת היבולים הנפוצים ביותר\n",
    "plt.figure(figsize=(14, 7))\n",
    "sns.barplot(data=district_area_crop_production_top_10, x='Crop', y='Production', hue='District', palette='viridis')\n",
    "plt.title('Production of Top 10 Crops by District')\n",
    "plt.xlabel('Crop')\n",
    "plt.ylabel('Total Production (Tonnes)')\n",
    "plt.xticks(rotation=45, ha='right')\n",
    "plt.grid(axis='y')\n",
    "plt.tight_layout()\n",
    "plt.show()"
   ]
  },
  {
   "cell_type": "code",
   "execution_count": null,
   "id": "aadd379f-f28f-4d8f-91a6-e313388a314f",
   "metadata": {},
   "outputs": [],
   "source": []
  },
  {
   "cell_type": "code",
   "execution_count": null,
   "id": "7b5d3b14",
   "metadata": {},
   "outputs": [],
   "source": []
  },
  {
   "cell_type": "code",
   "execution_count": null,
   "id": "5c87e8c8",
   "metadata": {
    "tags": []
   },
   "outputs": [],
   "source": [
    " דוגמה לגרף פיזור של שטח מול ייצור\n",
    "fig = px.scatter(data, x='Area', y='Production', color='Crop',\n",
    "                 title='Production vs Area by Crop',\n",
    "                 labels={'Area': 'Area (Hectares)', 'Production': 'Production (Tonnes)'},\n",
    "                 hover_data=['State', 'District', 'Year'])\n",
    "\n",
    "fig.show()"
   ]
  },
  {
   "cell_type": "code",
   "execution_count": null,
   "id": "48f590bb-8cea-48ae-a9a5-bd5e8d53731d",
   "metadata": {},
   "outputs": [],
   "source": []
  }
 ],
 "metadata": {
  "kernelspec": {
   "display_name": "Python 3 (ipykernel)",
   "language": "python",
   "name": "python3"
  },
  "language_info": {
   "codemirror_mode": {
    "name": "ipython",
    "version": 3
   },
   "file_extension": ".py",
   "mimetype": "text/x-python",
   "name": "python",
   "nbconvert_exporter": "python",
   "pygments_lexer": "ipython3",
   "version": "3.11.5"
  }
 },
 "nbformat": 4,
 "nbformat_minor": 5
}
