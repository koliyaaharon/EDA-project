{
 "cells": [
  {
   "cell_type": "markdown",
   "id": "94f1d502",
   "metadata": {},
   "source": [
    " # DA Final project:\n",
    "\n",
    "# Group 52\n",
    "\n",
    "# India Agriculture Crop Production\n",
    "\n",
    "###  Name of students:\n",
    "Koliya Aharon<br>\n",
    "Ateret Bass"
   ]
  },
  {
   "cell_type": "markdown",
   "id": "39f2b091",
   "metadata": {},
   "source": [
    "![indiaagriculture](./india.PNG)"
   ]
  },
  {
   "cell_type": "code",
   "execution_count": 1,
   "id": "93e60f69",
   "metadata": {},
   "outputs": [],
   "source": [
    "import pandas as pd\n",
    "import numpy as np\n",
    "import plotly.express as px\n",
    "import seaborn as sns\n",
    "from IPython.display import Image"
   ]
  },
  {
   "cell_type": "code",
   "execution_count": 2,
   "id": "5d8501f1",
   "metadata": {},
   "outputs": [],
   "source": [
    "import json\n",
    "with open(\"Indian_States.json\") as f:\n",
    "    states = json.load(f)"
   ]
  },
  {
   "cell_type": "markdown",
   "id": "294ebb86",
   "metadata": {},
   "source": [
    "# Data Preparation"
   ]
  },
  {
   "cell_type": "code",
   "execution_count": 3,
   "id": "e042f64f",
   "metadata": {},
   "outputs": [],
   "source": [
    "df = pd.read_csv(\"data/India Agriculture Crop Production.csv\")"
   ]
  },
  {
   "cell_type": "code",
   "execution_count": 4,
   "id": "213504fe",
   "metadata": {},
   "outputs": [
    {
     "data": {
      "text/plain": [
       "(345407, 10)"
      ]
     },
     "execution_count": 4,
     "metadata": {},
     "output_type": "execute_result"
    }
   ],
   "source": [
    "df.shape"
   ]
  },
  {
   "cell_type": "code",
   "execution_count": 5,
   "id": "15915f98",
   "metadata": {},
   "outputs": [
    {
     "data": {
      "text/plain": [
       "Index(['State', 'District', 'Crop', 'Year', 'Season', 'Area', 'Area Units',\n",
       "       'Production', 'Production Units', 'Yield'],\n",
       "      dtype='object')"
      ]
     },
     "execution_count": 5,
     "metadata": {},
     "output_type": "execute_result"
    }
   ],
   "source": [
    "df.columns"
   ]
  },
  {
   "cell_type": "code",
   "execution_count": 6,
   "id": "fbb59cb9",
   "metadata": {},
   "outputs": [
    {
     "data": {
      "text/plain": [
       "State                object\n",
       "District             object\n",
       "Crop                 object\n",
       "Year                 object\n",
       "Season               object\n",
       "Area                float64\n",
       "Area Units           object\n",
       "Production          float64\n",
       "Production Units     object\n",
       "Yield               float64\n",
       "dtype: object"
      ]
     },
     "execution_count": 6,
     "metadata": {},
     "output_type": "execute_result"
    }
   ],
   "source": [
    "df.dtypes"
   ]
  },
  {
   "cell_type": "code",
   "execution_count": 7,
   "id": "d8289294",
   "metadata": {},
   "outputs": [
    {
     "data": {
      "text/plain": [
       "State                  0\n",
       "District               0\n",
       "Year                   0\n",
       "Area Units             0\n",
       "Production Units       0\n",
       "Season                 1\n",
       "Crop                  32\n",
       "Area                  33\n",
       "Yield                 33\n",
       "Production          4993\n",
       "dtype: int64"
      ]
     },
     "execution_count": 7,
     "metadata": {},
     "output_type": "execute_result"
    }
   ],
   "source": [
    "df.isnull().sum().sort_values()"
   ]
  },
  {
   "cell_type": "code",
   "execution_count": 8,
   "id": "93b95b44",
   "metadata": {},
   "outputs": [
    {
     "name": "stdout",
     "output_type": "stream",
     "text": [
      "<class 'pandas.core.frame.DataFrame'>\n",
      "RangeIndex: 345407 entries, 0 to 345406\n",
      "Data columns (total 10 columns):\n",
      " #   Column            Non-Null Count   Dtype  \n",
      "---  ------            --------------   -----  \n",
      " 0   State             345407 non-null  object \n",
      " 1   District          345407 non-null  object \n",
      " 2   Crop              345375 non-null  object \n",
      " 3   Year              345407 non-null  object \n",
      " 4   Season            345406 non-null  object \n",
      " 5   Area              345374 non-null  float64\n",
      " 6   Area Units        345407 non-null  object \n",
      " 7   Production        340414 non-null  float64\n",
      " 8   Production Units  345407 non-null  object \n",
      " 9   Yield             345374 non-null  float64\n",
      "dtypes: float64(3), object(7)\n",
      "memory usage: 26.4+ MB\n"
     ]
    }
   ],
   "source": [
    "df.info()"
   ]
  },
  {
   "cell_type": "code",
   "execution_count": 9,
   "id": "d1b89412",
   "metadata": {},
   "outputs": [],
   "source": [
    "df = df.dropna()"
   ]
  },
  {
   "cell_type": "code",
   "execution_count": 10,
   "id": "87abcde6",
   "metadata": {},
   "outputs": [],
   "source": [
    "def change_year(year):\n",
    "    first_half = int(year.split(\"-\")[0])\n",
    "    return str(first_half) + \"-\" + str(first_half + 1)"
   ]
  },
  {
   "cell_type": "code",
   "execution_count": 11,
   "id": "cd06cbff",
   "metadata": {},
   "outputs": [],
   "source": [
    "df.Year = df.Year.apply(change_year)"
   ]
  },
  {
   "cell_type": "code",
   "execution_count": 12,
   "id": "de596f29",
   "metadata": {},
   "outputs": [],
   "source": [
    "df = df.sort_values(\"Year\").reset_index(drop = True)"
   ]
  },
  {
   "cell_type": "code",
   "execution_count": 13,
   "id": "1c941105",
   "metadata": {},
   "outputs": [
    {
     "data": {
      "text/html": [
       "<div>\n",
       "<style scoped>\n",
       "    .dataframe tbody tr th:only-of-type {\n",
       "        vertical-align: middle;\n",
       "    }\n",
       "\n",
       "    .dataframe tbody tr th {\n",
       "        vertical-align: top;\n",
       "    }\n",
       "\n",
       "    .dataframe thead th {\n",
       "        text-align: right;\n",
       "    }\n",
       "</style>\n",
       "<table border=\"1\" class=\"dataframe\">\n",
       "  <thead>\n",
       "    <tr style=\"text-align: right;\">\n",
       "      <th></th>\n",
       "      <th>State</th>\n",
       "      <th>District</th>\n",
       "      <th>Crop</th>\n",
       "      <th>Year</th>\n",
       "      <th>Season</th>\n",
       "      <th>Area</th>\n",
       "      <th>Area Units</th>\n",
       "      <th>Production</th>\n",
       "      <th>Production Units</th>\n",
       "      <th>Yield</th>\n",
       "    </tr>\n",
       "  </thead>\n",
       "  <tbody>\n",
       "    <tr>\n",
       "      <th>0</th>\n",
       "      <td>Meghalaya</td>\n",
       "      <td>SOUTH GARO HILLS</td>\n",
       "      <td>Rapeseed &amp;Mustard</td>\n",
       "      <td>1997-1998</td>\n",
       "      <td>Rabi</td>\n",
       "      <td>257.0</td>\n",
       "      <td>Hectare</td>\n",
       "      <td>176.0</td>\n",
       "      <td>Tonnes</td>\n",
       "      <td>0.684825</td>\n",
       "    </tr>\n",
       "    <tr>\n",
       "      <th>1</th>\n",
       "      <td>Uttar Pradesh</td>\n",
       "      <td>CHANDAULI</td>\n",
       "      <td>Jowar</td>\n",
       "      <td>1997-1998</td>\n",
       "      <td>Kharif</td>\n",
       "      <td>958.0</td>\n",
       "      <td>Hectare</td>\n",
       "      <td>929.0</td>\n",
       "      <td>Tonnes</td>\n",
       "      <td>0.969729</td>\n",
       "    </tr>\n",
       "    <tr>\n",
       "      <th>2</th>\n",
       "      <td>Bihar</td>\n",
       "      <td>DARBHANGA</td>\n",
       "      <td>Arhar/Tur</td>\n",
       "      <td>1997-1998</td>\n",
       "      <td>Kharif</td>\n",
       "      <td>1017.0</td>\n",
       "      <td>Hectare</td>\n",
       "      <td>1665.0</td>\n",
       "      <td>Tonnes</td>\n",
       "      <td>1.637168</td>\n",
       "    </tr>\n",
       "    <tr>\n",
       "      <th>3</th>\n",
       "      <td>Uttar Pradesh</td>\n",
       "      <td>BULANDSHAHR</td>\n",
       "      <td>Jowar</td>\n",
       "      <td>1997-1998</td>\n",
       "      <td>Kharif</td>\n",
       "      <td>487.0</td>\n",
       "      <td>Hectare</td>\n",
       "      <td>386.0</td>\n",
       "      <td>Tonnes</td>\n",
       "      <td>0.792608</td>\n",
       "    </tr>\n",
       "    <tr>\n",
       "      <th>4</th>\n",
       "      <td>Uttar Pradesh</td>\n",
       "      <td>BUDAUN</td>\n",
       "      <td>Jowar</td>\n",
       "      <td>1997-1998</td>\n",
       "      <td>Kharif</td>\n",
       "      <td>5164.0</td>\n",
       "      <td>Hectare</td>\n",
       "      <td>5435.0</td>\n",
       "      <td>Tonnes</td>\n",
       "      <td>1.052479</td>\n",
       "    </tr>\n",
       "  </tbody>\n",
       "</table>\n",
       "</div>"
      ],
      "text/plain": [
       "           State          District               Crop       Year  Season  \\\n",
       "0      Meghalaya  SOUTH GARO HILLS  Rapeseed &Mustard  1997-1998    Rabi   \n",
       "1  Uttar Pradesh         CHANDAULI              Jowar  1997-1998  Kharif   \n",
       "2          Bihar         DARBHANGA          Arhar/Tur  1997-1998  Kharif   \n",
       "3  Uttar Pradesh       BULANDSHAHR              Jowar  1997-1998  Kharif   \n",
       "4  Uttar Pradesh            BUDAUN              Jowar  1997-1998  Kharif   \n",
       "\n",
       "     Area Area Units  Production Production Units     Yield  \n",
       "0   257.0    Hectare       176.0           Tonnes  0.684825  \n",
       "1   958.0    Hectare       929.0           Tonnes  0.969729  \n",
       "2  1017.0    Hectare      1665.0           Tonnes  1.637168  \n",
       "3   487.0    Hectare       386.0           Tonnes  0.792608  \n",
       "4  5164.0    Hectare      5435.0           Tonnes  1.052479  "
      ]
     },
     "execution_count": 13,
     "metadata": {},
     "output_type": "execute_result"
    }
   ],
   "source": [
    "df.head()"
   ]
  },
  {
   "cell_type": "code",
   "execution_count": 14,
   "id": "3ec2b79f",
   "metadata": {},
   "outputs": [
    {
     "data": {
      "text/plain": [
       "State                   36\n",
       "District               728\n",
       "Crop                    56\n",
       "Year                    24\n",
       "Season                   6\n",
       "Area                 47949\n",
       "Area Units               1\n",
       "Production           69078\n",
       "Production Units         3\n",
       "Yield               197154\n",
       "dtype: int64"
      ]
     },
     "execution_count": 14,
     "metadata": {},
     "output_type": "execute_result"
    }
   ],
   "source": [
    "df.nunique()"
   ]
  },
  {
   "cell_type": "code",
   "execution_count": 15,
   "id": "b569557b",
   "metadata": {},
   "outputs": [
    {
     "data": {
      "text/html": [
       "<div>\n",
       "<style scoped>\n",
       "    .dataframe tbody tr th:only-of-type {\n",
       "        vertical-align: middle;\n",
       "    }\n",
       "\n",
       "    .dataframe tbody tr th {\n",
       "        vertical-align: top;\n",
       "    }\n",
       "\n",
       "    .dataframe thead th {\n",
       "        text-align: right;\n",
       "    }\n",
       "</style>\n",
       "<table border=\"1\" class=\"dataframe\">\n",
       "  <thead>\n",
       "    <tr style=\"text-align: right;\">\n",
       "      <th></th>\n",
       "      <th>Area</th>\n",
       "      <th>Production</th>\n",
       "      <th>Yield</th>\n",
       "    </tr>\n",
       "  </thead>\n",
       "  <tbody>\n",
       "    <tr>\n",
       "      <th>count</th>\n",
       "      <td>3.404140e+05</td>\n",
       "      <td>3.404140e+05</td>\n",
       "      <td>340414.000000</td>\n",
       "    </tr>\n",
       "    <tr>\n",
       "      <th>mean</th>\n",
       "      <td>1.182535e+04</td>\n",
       "      <td>9.583711e+05</td>\n",
       "      <td>80.564577</td>\n",
       "    </tr>\n",
       "    <tr>\n",
       "      <th>std</th>\n",
       "      <td>4.612484e+04</td>\n",
       "      <td>2.152986e+07</td>\n",
       "      <td>923.232000</td>\n",
       "    </tr>\n",
       "    <tr>\n",
       "      <th>min</th>\n",
       "      <td>8.000000e-03</td>\n",
       "      <td>0.000000e+00</td>\n",
       "      <td>0.000000</td>\n",
       "    </tr>\n",
       "    <tr>\n",
       "      <th>25%</th>\n",
       "      <td>8.000000e+01</td>\n",
       "      <td>8.700000e+01</td>\n",
       "      <td>0.567920</td>\n",
       "    </tr>\n",
       "    <tr>\n",
       "      <th>50%</th>\n",
       "      <td>5.630000e+02</td>\n",
       "      <td>7.170000e+02</td>\n",
       "      <td>1.025000</td>\n",
       "    </tr>\n",
       "    <tr>\n",
       "      <th>75%</th>\n",
       "      <td>4.257000e+03</td>\n",
       "      <td>7.176000e+03</td>\n",
       "      <td>2.500000</td>\n",
       "    </tr>\n",
       "    <tr>\n",
       "      <th>max</th>\n",
       "      <td>8.580100e+06</td>\n",
       "      <td>1.597800e+09</td>\n",
       "      <td>43958.333333</td>\n",
       "    </tr>\n",
       "  </tbody>\n",
       "</table>\n",
       "</div>"
      ],
      "text/plain": [
       "               Area    Production          Yield\n",
       "count  3.404140e+05  3.404140e+05  340414.000000\n",
       "mean   1.182535e+04  9.583711e+05      80.564577\n",
       "std    4.612484e+04  2.152986e+07     923.232000\n",
       "min    8.000000e-03  0.000000e+00       0.000000\n",
       "25%    8.000000e+01  8.700000e+01       0.567920\n",
       "50%    5.630000e+02  7.170000e+02       1.025000\n",
       "75%    4.257000e+03  7.176000e+03       2.500000\n",
       "max    8.580100e+06  1.597800e+09   43958.333333"
      ]
     },
     "execution_count": 15,
     "metadata": {},
     "output_type": "execute_result"
    }
   ],
   "source": [
    "df.describe()"
   ]
  },
  {
   "cell_type": "markdown",
   "id": "f804ff4a",
   "metadata": {},
   "source": [
    "# Crops efficiency"
   ]
  },
  {
   "cell_type": "markdown",
   "id": "437c6201",
   "metadata": {},
   "source": [
    "To define efficiency we need to look at the `Yield` column.\n",
    "\n",
    "Since `Yield` is definde as: \n",
    "$$\n",
    "\\text{Yield} = \\frac{\\text{Production}}{\\text{Area}}\n",
    "$$\n",
    "Meaning that we calculate how much Crops one unit of `Area` (Hectare) outputs.\n",
    "\n",
    "For comparision we will look only at crops that the `Production Unit` is `Tonnes`."
   ]
  },
  {
   "cell_type": "code",
   "execution_count": 16,
   "id": "bd9dd1ae",
   "metadata": {},
   "outputs": [],
   "source": [
    "Crop_efficiency_data = df[df[\"Production Units\"] == \"Tonnes\"]"
   ]
  },
  {
   "cell_type": "markdown",
   "id": "84147015",
   "metadata": {},
   "source": [
    "## Basic Crop efficiency"
   ]
  },
  {
   "cell_type": "markdown",
   "id": "509aeebf",
   "metadata": {},
   "source": [
    "<div dir=\"rtl\">\n",
    "מהו היבול הכי יעיל ?\n",
    "</div>"
   ]
  },
  {
   "cell_type": "code",
   "execution_count": null,
   "id": "252f7324",
   "metadata": {},
   "outputs": [],
   "source": [
    "crop_efficiency = Crop_efficiency_data.groupby(\"Crop\").Yield.mean().sort_values(ascending = True).to_frame().reset_index()"
   ]
  },
  {
   "cell_type": "code",
   "execution_count": null,
   "id": "a2beab7b",
   "metadata": {},
   "outputs": [],
   "source": [
    "fig = px.bar(crop_efficiency, y= \"Crop\", x= \"Yield\", title= \"Crop average efficiency\")\n",
    "fig.update_layout(\n",
    "    autosize=False,\n",
    "    width=800,\n",
    "    height=1000,\n",
    ")\n",
    "fig.show()"
   ]
  },
  {
   "cell_type": "markdown",
   "id": "04e6c2bb",
   "metadata": {},
   "source": [
    "<div dir=\"rtl\">\n",
    "היבול הכי יעיל בממוצע הוא קנה סוכר\n",
    "</div>"
   ]
  },
  {
   "cell_type": "markdown",
   "id": "77c3d460",
   "metadata": {},
   "source": [
    "## Crop quantity"
   ]
  },
  {
   "cell_type": "markdown",
   "id": "616a3bdc",
   "metadata": {},
   "source": [
    "<div dir=\"rtl\">\n",
    "מהו היבול עם התפוקה הגבוהה ביותר ?\n",
    "</div>"
   ]
  },
  {
   "cell_type": "code",
   "execution_count": null,
   "id": "1cb2bd44",
   "metadata": {},
   "outputs": [],
   "source": [
    "crop_quantity = Crop_efficiency_data.groupby(\"Crop\").Production.mean().sort_values(ascending = True).to_frame().reset_index()"
   ]
  },
  {
   "cell_type": "code",
   "execution_count": null,
   "id": "098ee32e",
   "metadata": {},
   "outputs": [],
   "source": [
    "fig = px.bar(crop_quantity, y= \"Crop\", x= \"Production\", title= \"Crop average quantity\")\n",
    "fig.update_layout(\n",
    "    autosize=False,\n",
    "    width=800,\n",
    "    height=1000,\n",
    ")\n",
    "fig.show()"
   ]
  },
  {
   "cell_type": "markdown",
   "id": "90ca43f5",
   "metadata": {},
   "source": [
    "<div dir=\"rtl\">\n",
    "היבול עם הכי הרבה תפוקה בממוצע הוא גם קנה סוכר\n",
    "</div>"
   ]
  },
  {
   "cell_type": "markdown",
   "id": "6874641e",
   "metadata": {},
   "source": [
    "![indiaagriculture](./sugar.PNG)"
   ]
  },
  {
   "cell_type": "markdown",
   "id": "e6dc6047",
   "metadata": {},
   "source": [
    "# Crop Area"
   ]
  },
  {
   "cell_type": "markdown",
   "id": "fea37e10",
   "metadata": {},
   "source": [
    "<div dir=\"rtl\">\n",
    "שאלה: האם ליבול היעיל ביותר בממוצע עם התפוקה הגבוהה ביותר בממוצע מוקצה הכי הרבה שטח בממוצע ?\n",
    "</div>"
   ]
  },
  {
   "cell_type": "code",
   "execution_count": null,
   "id": "f9fe577b",
   "metadata": {},
   "outputs": [],
   "source": [
    "crop_area = Crop_efficiency_data.groupby(\"Crop\").Area.mean().sort_values(ascending = True).to_frame().reset_index()"
   ]
  },
  {
   "cell_type": "code",
   "execution_count": null,
   "id": "c6b54f24",
   "metadata": {},
   "outputs": [],
   "source": [
    "fig = px.bar(crop_area, y= \"Crop\", x= \"Area\", title= \"Crop average area\")\n",
    "fig.update_layout(\n",
    "    autosize=False,\n",
    "    width=800,\n",
    "    height=1000,\n",
    ")\n",
    "fig.show()"
   ]
  },
  {
   "cell_type": "markdown",
   "id": "61e1750f",
   "metadata": {},
   "source": [
    "<div dir=\"rtl\">\n",
    "מסקנה: למרות שקנה סוכר הוא היבול היעיל ביותר בממוצע עם התפוקה הגדולה ביותר בממוצע לא מוקצה לו הכי הרבה שטח בממוצע.\n",
    "    במקום זה ניתן לראות שדווקא הוקצה הכי הרבה שטח לזרעים לשמן, חיטה ואורז.\n",
    "    שהם גידוליים בסיסיים לחיי אדם ולכן להם הוקצה את רוב השטח. \n",
    "    בנוסף אנחנו רואים שקנה סוכר לא נמצא אפילו בעשירייה הראשונה ועדיין הוא מייצר הכי הרבה תפוקה.\n",
    "    מה שמחזק את רמת היעילות שלו.\n",
    "</div>"
   ]
  },
  {
   "cell_type": "markdown",
   "id": "f0937abd",
   "metadata": {},
   "source": [
    "## Crop efficiency by State"
   ]
  },
  {
   "cell_type": "code",
   "execution_count": null,
   "id": "03ac0571",
   "metadata": {},
   "outputs": [],
   "source": [
    "state_most_efficient_crop = Crop_efficiency_data.groupby([\"State\"]).apply(lambda x: x.groupby(\"Crop\").Yield.mean().idxmax())\n",
    "state_most_efficient_crop = state_most_efficient_crop.to_frame().reset_index().rename({0:\"Crop\"}, axis= 1)"
   ]
  },
  {
   "cell_type": "code",
   "execution_count": null,
   "id": "ef7e6092",
   "metadata": {},
   "outputs": [],
   "source": [
    "px.choropleth_mapbox(state_most_efficient_crop, geojson= states,featureidkey= \"properties.NAME_1\", locations=\"State\",\n",
    "                     color= \"Crop\",\n",
    "                        color_continuous_scale=\"Viridis\",\n",
    "                           range_color=(0, 12),\n",
    "                           mapbox_style=\"carto-positron\",\n",
    "                           zoom=3, center = {\"lat\": 22.736424, \"lon\":78.473622},\n",
    "                           opacity=0.5)"
   ]
  },
  {
   "cell_type": "markdown",
   "id": "1c3a6315",
   "metadata": {},
   "source": [
    "<div dir=\"rtl\">\n",
    "העשרה: ניתן לראות שקני סוכר הוא גם היבול היעיל ביותר ברוב המדינות\n",
    "</div>"
   ]
  },
  {
   "cell_type": "code",
   "execution_count": null,
   "id": "34a4628a",
   "metadata": {},
   "outputs": [],
   "source": [
    "del crop_efficiency\n",
    "del crop_quantity\n",
    "del crop_area"
   ]
  },
  {
   "cell_type": "markdown",
   "id": "01945d6f",
   "metadata": {},
   "source": [
    "# States"
   ]
  },
  {
   "cell_type": "markdown",
   "id": "78a81891",
   "metadata": {},
   "source": [
    "## State efficiency"
   ]
  },
  {
   "cell_type": "markdown",
   "id": "f129e1b2",
   "metadata": {},
   "source": [
    "<div dir=\"rtl\">\n",
    "שאלה: מה המדינה שמקצה הכי הרבה שטח ליבול בממוצע ?\n",
    "</div>"
   ]
  },
  {
   "cell_type": "code",
   "execution_count": null,
   "id": "6f5f579a",
   "metadata": {},
   "outputs": [],
   "source": [
    "state_area = Crop_efficiency_data.groupby(\"State\").Area.mean().sort_values(ascending = True).to_frame().reset_index()"
   ]
  },
  {
   "cell_type": "code",
   "execution_count": null,
   "id": "46c3aab8",
   "metadata": {},
   "outputs": [],
   "source": [
    "fig = px.bar(state_area, y= \"State\", x= \"Area\", title= \"Crop average area\")\n",
    "fig.update_layout(\n",
    "    autosize=False,\n",
    "    width=800,\n",
    "    height=1000,\n",
    ")\n",
    "fig.show()"
   ]
  },
  {
   "cell_type": "code",
   "execution_count": null,
   "id": "6735f2f0",
   "metadata": {},
   "outputs": [],
   "source": [
    "state_area.sort_values(\"Area\", ascending= False).head()"
   ]
  },
  {
   "cell_type": "markdown",
   "id": "013ed028",
   "metadata": {},
   "source": [
    "<div dir=\"rtl\">\n",
    "הטבלה מציגה את חמש המדינות שמקצות הכי הרבה שטח ליבול בממוצע\n",
    "</div>"
   ]
  },
  {
   "cell_type": "code",
   "execution_count": null,
   "id": "d8e2c84d",
   "metadata": {},
   "outputs": [],
   "source": [
    "del state_area"
   ]
  },
  {
   "cell_type": "markdown",
   "id": "9c104f47",
   "metadata": {},
   "source": [
    "<div dir=\"rtl\">\n",
    "השאלה : האם המדינה שמקצה בממוצע הכי הרבה שטח ליבול היא המדינה הכי יעילה בממוצע ?\n",
    "</div>"
   ]
  },
  {
   "cell_type": "code",
   "execution_count": null,
   "id": "2fe5061c",
   "metadata": {},
   "outputs": [],
   "source": [
    "mean_crop_efficiency_by_state =  Crop_efficiency_data.groupby([\"State\"]).Yield.mean().to_frame().reset_index()"
   ]
  },
  {
   "cell_type": "code",
   "execution_count": null,
   "id": "aeda998b",
   "metadata": {},
   "outputs": [],
   "source": [
    "px.choropleth_mapbox(mean_crop_efficiency_by_state, geojson= states,featureidkey= \"properties.NAME_1\", locations=\"State\",\n",
    "                     color= \"Yield\",\n",
    "                        color_continuous_scale=\"Viridis\",\n",
    "                           range_color=(0, 12),\n",
    "                           mapbox_style=\"carto-positron\",\n",
    "                           zoom=3, center = {\"lat\": 22.736424, \"lon\":78.473622},\n",
    "                           opacity=0.5)"
   ]
  },
  {
   "cell_type": "code",
   "execution_count": null,
   "id": "86a79e5e",
   "metadata": {},
   "outputs": [],
   "source": [
    "mean_crop_efficiency_by_state.sort_values(\"Yield\", ascending=False).head()"
   ]
  },
  {
   "cell_type": "markdown",
   "id": "f1d4dfa9",
   "metadata": {},
   "source": [
    "<div dir=\"rtl\">\n",
    "הטבלה מציגה את חמש המדינות היעלות ביותר בממוצע\n",
    "</div>"
   ]
  },
  {
   "cell_type": "markdown",
   "id": "b7dd90c9",
   "metadata": {},
   "source": [
    "<div dir=\"rtl\">\n",
    "מסקנה: חמש המדינות היעילות ביותר בממוצע ליבול הן לא המדינות המקצות את ממוצע השטח הגדול ביותר וניתן להבין שאין קשר בין גודל השטח ליעילות שלו \n",
    "</div> "
   ]
  },
  {
   "cell_type": "markdown",
   "id": "b9b8b8d5",
   "metadata": {},
   "source": [
    "![indiaagriculture](./ef.PNG)"
   ]
  },
  {
   "cell_type": "markdown",
   "id": "a35b36c3",
   "metadata": {},
   "source": [
    "## State efficiency by Season"
   ]
  },
  {
   "cell_type": "markdown",
   "id": "8b755ad4",
   "metadata": {},
   "source": [
    "<div dir=\"rtl\">\n",
    "שאלה: האם יש קשר בין המיקום הגיאוגרפי לעונה היעילה ביותר בכל מדינה ?\n",
    "</div>"
   ]
  },
  {
   "cell_type": "code",
   "execution_count": null,
   "id": "d2e273fa",
   "metadata": {},
   "outputs": [],
   "source": [
    "state_most_efficient_season = Crop_efficiency_data[Crop_efficiency_data != \"Whole Year\"].groupby([\"State\"]).apply(lambda x: x.groupby(\"Season\").Yield.mean().idxmax())\n",
    "state_most_efficient_season = state_most_efficient_season.to_frame().reset_index().rename({0:\"Season\"}, axis= 1)"
   ]
  },
  {
   "cell_type": "code",
   "execution_count": null,
   "id": "7b19e72b",
   "metadata": {},
   "outputs": [],
   "source": [
    "px.choropleth_mapbox(state_most_efficient_season, geojson= states,featureidkey= \"properties.NAME_1\", locations=\"State\",\n",
    "                     color= \"Season\",\n",
    "                        color_continuous_scale=\"Viridis\",\n",
    "                           range_color=(0, 12),\n",
    "                           mapbox_style=\"carto-positron\",\n",
    "                           zoom=3, center = {\"lat\": 22.736424, \"lon\":78.473622},\n",
    "                           opacity=0.5)"
   ]
  },
  {
   "cell_type": "markdown",
   "id": "38a1b552",
   "metadata": {},
   "source": [
    "<div dir=\"rtl\">\n",
    "מסקנה: ישנו קשר בין המיקום הגיאוגרפי לעונה היעילה ביותר ליבול בכל מדינה ניתן לראות בגרף שהחלק המערבי יעיל בעונה רבי החלק המרכזי יעיל בקיץ והמזרחי יעיל בחורף \n",
    "</div>"
   ]
  },
  {
   "cell_type": "markdown",
   "id": "85804e39",
   "metadata": {},
   "source": [
    "![indiaagriculture](./se.PNG)"
   ]
  },
  {
   "cell_type": "code",
   "execution_count": null,
   "id": "a27b4a4a",
   "metadata": {},
   "outputs": [],
   "source": [
    "px.imshow(Crop_efficiency_data[Crop_efficiency_data.Season != \"Whole Year\"]\\\n",
    "          .pivot_table(index= \"Year\", columns= \"Season\", values= \"Yield\").corr(), text_auto=True)"
   ]
  }
 ],
 "metadata": {
  "kernelspec": {
   "display_name": "Python 3 (ipykernel)",
   "language": "python",
   "name": "python3"
  },
  "language_info": {
   "codemirror_mode": {
    "name": "ipython",
    "version": 3
   },
   "file_extension": ".py",
   "mimetype": "text/x-python",
   "name": "python",
   "nbconvert_exporter": "python",
   "pygments_lexer": "ipython3",
   "version": "3.11.5"
  }
 },
 "nbformat": 4,
 "nbformat_minor": 5
}
