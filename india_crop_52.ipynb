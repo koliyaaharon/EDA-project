{
 "cells": [
  {
   "cell_type": "markdown",
   "id": "94f1d502",
   "metadata": {},
   "source": [
    " # DA Final project:\n",
    "\n",
    "# Group 52\n",
    "\n",
    "# India Agriculture Crop Production\n",
    "\n",
    "###  Name of students:\n",
    "Koliya Aharon<br>\n",
    "Ateret Bass"
   ]
  },
  {
   "cell_type": "markdown",
   "id": "39f2b091",
   "metadata": {},
   "source": [
    "![indiaagriculture](./india.PNG)"
   ]
  },
  {
   "cell_type": "code",
   "execution_count": null,
   "id": "93e60f69",
   "metadata": {},
   "outputs": [],
   "source": [
    "import pandas as pd\n",
    "import numpy as np\n",
    "import plotly.express as px\n",
    "import seaborn as sns\n",
    "from IPython.display import Image\n",
    "from pathlib import Path"
   ]
  },
  {
   "cell_type": "code",
   "execution_count": null,
   "id": "5d8501f1",
   "metadata": {},
   "outputs": [],
   "source": [
    "import json\n",
    "with open(\"Indian_States.json\") as f:\n",
    "    states = json.load(f)"
   ]
  },
  {
   "cell_type": "markdown",
   "id": "294ebb86",
   "metadata": {},
   "source": [
    "# Data Preparation"
   ]
  },
  {
   "cell_type": "code",
   "execution_count": null,
   "id": "e042f64f",
   "metadata": {},
   "outputs": [],
   "source": [
    "df = pd.read_csv(\"India Agriculture Crop Production.csv\")"
   ]
  },
  {
   "cell_type": "code",
   "execution_count": null,
   "id": "213504fe",
   "metadata": {},
   "outputs": [],
   "source": [
    "df.shape"
   ]
  },
  {
   "cell_type": "code",
   "execution_count": null,
   "id": "15915f98",
   "metadata": {},
   "outputs": [],
   "source": [
    "df.columns"
   ]
  },
  {
   "cell_type": "code",
   "execution_count": null,
   "id": "fbb59cb9",
   "metadata": {},
   "outputs": [],
   "source": [
    "df.dtypes"
   ]
  },
  {
   "cell_type": "code",
   "execution_count": null,
   "id": "d8289294",
   "metadata": {},
   "outputs": [],
   "source": [
    "df.isnull().sum().sort_values()"
   ]
  },
  {
   "cell_type": "code",
   "execution_count": null,
   "id": "93b95b44",
   "metadata": {},
   "outputs": [],
   "source": [
    "df.info()"
   ]
  },
  {
   "cell_type": "code",
   "execution_count": null,
   "id": "d1b89412",
   "metadata": {},
   "outputs": [],
   "source": [
    "df = df.dropna()"
   ]
  },
  {
   "cell_type": "code",
   "execution_count": null,
   "id": "87abcde6",
   "metadata": {},
   "outputs": [],
   "source": [
    "def change_year(year):\n",
    "    first_half = int(year.split(\"-\")[0])\n",
    "    return str(first_half) + \"-\" + str(first_half + 1)"
   ]
  },
  {
   "cell_type": "code",
   "execution_count": null,
   "id": "cd06cbff",
   "metadata": {},
   "outputs": [],
   "source": [
    "df.Year = df.Year.apply(change_year)"
   ]
  },
  {
   "cell_type": "code",
   "execution_count": null,
   "id": "de596f29",
   "metadata": {},
   "outputs": [],
   "source": [
    "df = df.sort_values(\"Year\").reset_index(drop = True)"
   ]
  },
  {
   "cell_type": "code",
   "execution_count": null,
   "id": "1c941105",
   "metadata": {},
   "outputs": [],
   "source": [
    "df.head()"
   ]
  },
  {
   "cell_type": "code",
   "execution_count": null,
   "id": "3ec2b79f",
   "metadata": {},
   "outputs": [],
   "source": [
    "df.nunique()"
   ]
  },
  {
   "cell_type": "code",
   "execution_count": null,
   "id": "b569557b",
   "metadata": {},
   "outputs": [],
   "source": [
    "df.describe()"
   ]
  },
  {
   "cell_type": "markdown",
   "id": "f804ff4a",
   "metadata": {},
   "source": [
    "# Crops efficiency"
   ]
  },
  {
   "cell_type": "markdown",
   "id": "437c6201",
   "metadata": {},
   "source": [
    "To define efficiency we need to look at the `Yield` column.\n",
    "\n",
    "Since `Yield` is definde as: \n",
    "$$\n",
    "\\text{Yield} = \\frac{\\text{Production}}{\\text{Area}}\n",
    "$$\n",
    "Meaning that we calculate how much Crops one unit of `Area` (Hectare) outputs.\n",
    "\n",
    "For comparision we will look only at crops that the `Production Unit` is `Tonnes`."
   ]
  },
  {
   "cell_type": "code",
   "execution_count": null,
   "id": "bd9dd1ae",
   "metadata": {},
   "outputs": [],
   "source": [
    "Crop_efficiency_data = df[df[\"Production Units\"] == \"Tonnes\"]"
   ]
  },
  {
   "cell_type": "markdown",
   "id": "84147015",
   "metadata": {},
   "source": [
    "## Basic Crop efficiency"
   ]
  },
  {
   "cell_type": "markdown",
   "id": "509aeebf",
   "metadata": {},
   "source": [
    "<div dir=\"rtl\">\n",
    "מהו היבול הכי יעיל ?\n",
    "</div>"
   ]
  },
  {
   "cell_type": "code",
   "execution_count": null,
   "id": "252f7324",
   "metadata": {},
   "outputs": [],
   "source": [
    "crop_efficiency = Crop_efficiency_data.groupby(\"Crop\").Yield.mean().sort_values(ascending = True).to_frame().reset_index()"
   ]
  },
  {
   "cell_type": "code",
   "execution_count": null,
   "id": "a2beab7b",
   "metadata": {},
   "outputs": [],
   "source": [
    "fig = px.bar(crop_efficiency, y= \"Crop\", x= \"Yield\", title= \"Crop average efficiency\")\n",
    "fig.update_layout(\n",
    "    autosize=False,\n",
    "    width=800,\n",
    "    height=1000,\n",
    ")\n",
    "fig.show()"
   ]
  },
  {
   "cell_type": "markdown",
   "id": "04e6c2bb",
   "metadata": {},
   "source": [
    "<div dir=\"rtl\">\n",
    "היבול הכי יעיל בממוצע הוא קנה סוכר\n",
    "</div>"
   ]
  },
  {
   "cell_type": "markdown",
   "id": "77c3d460",
   "metadata": {},
   "source": [
    "## Crop quantity"
   ]
  },
  {
   "cell_type": "markdown",
   "id": "616a3bdc",
   "metadata": {},
   "source": [
    "<div dir=\"rtl\">\n",
    "מהו היבול עם התפוקה הגבוהה ביותר ?\n",
    "</div>"
   ]
  },
  {
   "cell_type": "code",
   "execution_count": null,
   "id": "1cb2bd44",
   "metadata": {},
   "outputs": [],
   "source": [
    "crop_quantity = Crop_efficiency_data.groupby(\"Crop\").Production.mean().sort_values(ascending = True).to_frame().reset_index()"
   ]
  },
  {
   "cell_type": "code",
   "execution_count": null,
   "id": "098ee32e",
   "metadata": {},
   "outputs": [],
   "source": [
    "fig = px.bar(crop_quantity, y= \"Crop\", x= \"Production\", title= \"Crop average quantity\")\n",
    "fig.update_layout(\n",
    "    autosize=False,\n",
    "    width=800,\n",
    "    height=1000,\n",
    ")\n",
    "fig.show()"
   ]
  },
  {
   "cell_type": "markdown",
   "id": "90ca43f5",
   "metadata": {},
   "source": [
    "<div dir=\"rtl\">\n",
    "היבול עם הכי הרבה תפוקה בממוצע הוא גם קנה סוכר\n",
    "</div>"
   ]
  },
  {
   "cell_type": "markdown",
   "id": "6874641e",
   "metadata": {},
   "source": [
    "![indiaagriculture](./sugar.PNG)"
   ]
  },
  {
   "cell_type": "markdown",
   "id": "e6dc6047",
   "metadata": {},
   "source": [
    "# Crop Area"
   ]
  },
  {
   "cell_type": "markdown",
   "id": "fea37e10",
   "metadata": {},
   "source": [
    "<div dir=\"rtl\">\n",
    "שאלה: האם ליבול היעיל ביותר בממוצע עם התפוקה הגבוהה ביותר בממוצע מוקצה הכי הרבה שטח בממוצע ?\n",
    "</div>"
   ]
  },
  {
   "cell_type": "code",
   "execution_count": null,
   "id": "f9fe577b",
   "metadata": {},
   "outputs": [],
   "source": [
    "crop_area = Crop_efficiency_data.groupby(\"Crop\").Area.mean().sort_values(ascending = True).to_frame().reset_index()"
   ]
  },
  {
   "cell_type": "code",
   "execution_count": null,
   "id": "c6b54f24",
   "metadata": {},
   "outputs": [],
   "source": [
    "fig = px.bar(crop_area, y= \"Crop\", x= \"Area\", title= \"Crop average area\")\n",
    "fig.update_layout(\n",
    "    autosize=False,\n",
    "    width=800,\n",
    "    height=1000,\n",
    ")\n",
    "fig.show()"
   ]
  },
  {
   "cell_type": "markdown",
   "id": "61e1750f",
   "metadata": {},
   "source": [
    "<div dir=\"rtl\">\n",
    "מסקנה: למרות שקנה סוכר הוא היבול היעיל ביותר בממוצע עם התפוקה הגדולה ביותר בממוצע לא מוקצה לו הכי הרבה שטח בממוצע.\n",
    "    במקום זה ניתן לראות שדווקא הוקצה הכי הרבה שטח לזרעים לשמן, חיטה ואורז.\n",
    "    שהם גידוליים בסיסיים לחיי אדם ולכן להם הוקצה את רוב השטח. \n",
    "    בנוסף אנחנו רואים שקנה סוכר לא נמצא אפילו בעשירייה הראשונה ועדיין הוא מייצר הכי הרבה תפוקה.\n",
    "    מה שמחזק את רמת היעילות שלו.\n",
    "</div>"
   ]
  },
  {
   "cell_type": "markdown",
   "id": "f0937abd",
   "metadata": {},
   "source": [
    "## Crop efficiency by State"
   ]
  },
  {
   "cell_type": "code",
   "execution_count": null,
   "id": "03ac0571",
   "metadata": {},
   "outputs": [],
   "source": [
    "state_most_efficient_crop = Crop_efficiency_data.groupby([\"State\"]).apply(lambda x: x.groupby(\"Crop\").Yield.mean().idxmax())\n",
    "state_most_efficient_crop = state_most_efficient_crop.to_frame().reset_index().rename({0:\"Crop\"}, axis= 1)"
   ]
  },
  {
   "cell_type": "code",
   "execution_count": null,
   "id": "ef7e6092",
   "metadata": {},
   "outputs": [],
   "source": [
    "px.choropleth_mapbox(state_most_efficient_crop, geojson= states,featureidkey= \"properties.NAME_1\", locations=\"State\",\n",
    "                     color= \"Crop\",\n",
    "                        color_continuous_scale=\"Viridis\",\n",
    "                           range_color=(0, 12),\n",
    "                           mapbox_style=\"carto-positron\",\n",
    "                           zoom=3, center = {\"lat\": 22.736424, \"lon\":78.473622},\n",
    "                           opacity=0.5)"
   ]
  },
  {
   "cell_type": "markdown",
   "id": "1c3a6315",
   "metadata": {},
   "source": [
    "<div dir=\"rtl\">\n",
    "העשרה: ניתן לראות שקני סוכר הוא גם היבול היעיל ביותר ברוב המדינות\n",
    "</div>"
   ]
  },
  {
   "cell_type": "code",
   "execution_count": null,
   "id": "34a4628a",
   "metadata": {},
   "outputs": [],
   "source": [
    "del crop_efficiency\n",
    "del crop_quantity\n",
    "del crop_area"
   ]
  },
  {
   "cell_type": "markdown",
   "id": "01945d6f",
   "metadata": {},
   "source": [
    "# States"
   ]
  },
  {
   "cell_type": "markdown",
   "id": "78a81891",
   "metadata": {},
   "source": [
    "## State efficiency"
   ]
  },
  {
   "cell_type": "markdown",
   "id": "f129e1b2",
   "metadata": {},
   "source": [
    "<div dir=\"rtl\">\n",
    "שאלה: מה המדינה שמקצה הכי הרבה שטח ליבול בממוצע ?\n",
    "</div>"
   ]
  },
  {
   "cell_type": "code",
   "execution_count": null,
   "id": "6f5f579a",
   "metadata": {},
   "outputs": [],
   "source": [
    "state_area = Crop_efficiency_data.groupby(\"State\").Area.mean().sort_values(ascending = True).to_frame().reset_index()"
   ]
  },
  {
   "cell_type": "code",
   "execution_count": null,
   "id": "46c3aab8",
   "metadata": {},
   "outputs": [],
   "source": [
    "fig = px.bar(state_area, y= \"State\", x= \"Area\", title= \"Crop average area\")\n",
    "fig.update_layout(\n",
    "    autosize=False,\n",
    "    width=800,\n",
    "    height=1000,\n",
    ")\n",
    "fig.show()"
   ]
  },
  {
   "cell_type": "code",
   "execution_count": null,
   "id": "6735f2f0",
   "metadata": {},
   "outputs": [],
   "source": [
    "state_area.sort_values(\"Area\", ascending= False).head()"
   ]
  },
  {
   "cell_type": "markdown",
   "id": "013ed028",
   "metadata": {},
   "source": [
    "<div dir=\"rtl\">\n",
    "הטבלה מציגה את חמש המדינות שמקצות הכי הרבה שטח ליבול בממוצע\n",
    "</div>"
   ]
  },
  {
   "cell_type": "code",
   "execution_count": null,
   "id": "d8e2c84d",
   "metadata": {},
   "outputs": [],
   "source": [
    "del state_area"
   ]
  },
  {
   "cell_type": "markdown",
   "id": "9c104f47",
   "metadata": {},
   "source": [
    "<div dir=\"rtl\">\n",
    "השאלה : האם המדינה שמקצה בממוצע הכי הרבה שטח ליבול היא המדינה הכי יעילה בממוצע ?\n",
    "</div>"
   ]
  },
  {
   "cell_type": "code",
   "execution_count": null,
   "id": "2fe5061c",
   "metadata": {},
   "outputs": [],
   "source": [
    "mean_crop_efficiency_by_state =  Crop_efficiency_data.groupby([\"State\"]).Yield.mean().to_frame().reset_index()"
   ]
  },
  {
   "cell_type": "code",
   "execution_count": null,
   "id": "aeda998b",
   "metadata": {},
   "outputs": [],
   "source": [
    "px.choropleth_mapbox(mean_crop_efficiency_by_state, geojson= states,featureidkey= \"properties.NAME_1\", locations=\"State\",\n",
    "                     color= \"Yield\",\n",
    "                        color_continuous_scale=\"Viridis\",\n",
    "                           range_color=(0, 12),\n",
    "                           mapbox_style=\"carto-positron\",\n",
    "                           zoom=3, center = {\"lat\": 22.736424, \"lon\":78.473622},\n",
    "                           opacity=0.5)"
   ]
  },
  {
   "cell_type": "code",
   "execution_count": null,
   "id": "86a79e5e",
   "metadata": {},
   "outputs": [],
   "source": [
    "mean_crop_efficiency_by_state.sort_values(\"Yield\", ascending=False).head()"
   ]
  },
  {
   "cell_type": "markdown",
   "id": "f1d4dfa9",
   "metadata": {},
   "source": [
    "<div dir=\"rtl\">\n",
    "הטבלה מציגה את חמש המדינות היעלות ביותר בממוצע\n",
    "</div>"
   ]
  },
  {
   "cell_type": "markdown",
   "id": "b7dd90c9",
   "metadata": {},
   "source": [
    "<div dir=\"rtl\">\n",
    "מסקנה: חמש המדינות היעילות ביותר בממוצע ליבול הן לא המדינות המקצות את ממוצע השטח הגדול ביותר וניתן להבין שאין קשר בין גודל השטח ליעילות שלו \n",
    "</div> "
   ]
  },
  {
   "cell_type": "markdown",
   "id": "b9b8b8d5",
   "metadata": {},
   "source": [
    "![indiaagriculture](./ef.PNG)"
   ]
  },
  {
   "cell_type": "markdown",
   "id": "a35b36c3",
   "metadata": {},
   "source": [
    "## State efficiency by Season"
   ]
  },
  {
   "cell_type": "markdown",
   "id": "8b755ad4",
   "metadata": {},
   "source": [
    "<div dir=\"rtl\">\n",
    "שאלה: האם יש קשר בין המיקום הגיאוגרפי לעונה היעילה ביותר בכל מדינה ?\n",
    "</div>"
   ]
  },
  {
   "cell_type": "code",
   "execution_count": null,
   "id": "d2e273fa",
   "metadata": {},
   "outputs": [],
   "source": [
    "state_most_efficient_season = Crop_efficiency_data[Crop_efficiency_data != \"Whole Year\"].groupby([\"State\"]).apply(lambda x: x.groupby(\"Season\").Yield.mean().idxmax())\n",
    "state_most_efficient_season = state_most_efficient_season.to_frame().reset_index().rename({0:\"Season\"}, axis= 1)"
   ]
  },
  {
   "cell_type": "code",
   "execution_count": null,
   "id": "7b19e72b",
   "metadata": {},
   "outputs": [],
   "source": [
    "px.choropleth_mapbox(state_most_efficient_season, geojson= states,featureidkey= \"properties.NAME_1\", locations=\"State\",\n",
    "                     color= \"Season\",\n",
    "                        color_continuous_scale=\"Viridis\",\n",
    "                           range_color=(0, 12),\n",
    "                           mapbox_style=\"carto-positron\",\n",
    "                           zoom=3, center = {\"lat\": 22.736424, \"lon\":78.473622},\n",
    "                           opacity=0.5)"
   ]
  },
  {
   "cell_type": "markdown",
   "id": "38a1b552",
   "metadata": {},
   "source": [
    "<div dir=\"rtl\">\n",
    "מסקנה: ישנו קשר בין המיקום הגיאוגרפי לעונה היעילה ביותר ליבול בכל מדינה ניתן לראות בגרף שהחלק המערבי יעיל בעונה רבי החלק המרכזי יעיל בקיץ והמזרחי יעיל בחורף \n",
    "</div>"
   ]
  },
  {
   "cell_type": "markdown",
   "id": "85804e39",
   "metadata": {},
   "source": [
    "![indiaagriculture](./se.PNG)"
   ]
  },
  {
   "cell_type": "code",
   "execution_count": null,
   "id": "a27b4a4a",
   "metadata": {},
   "outputs": [],
   "source": [
    "px.imshow(Crop_efficiency_data[Crop_efficiency_data.Season != \"Whole Year\"]\\\n",
    "          .pivot_table(index= \"Year\", columns= \"Season\", values= \"Yield\").corr(), text_auto=True)"
   ]
  },
  {
   "cell_type": "markdown",
   "id": "2b9b69bd",
   "metadata": {},
   "source": [
    "https://www.kaggle.com/datasets/pyatakov/india-agriculture-crop-production?resource=download\n",
    "About Dataset\n",
    "India District-wise agriculture crop area and production statistics 1997-2021\n",
    "Latest update 02.2023.\n",
    "Next update of dataset is scheduled in Summer 2023.\n",
    "\n",
    "Data collected from [Ministry of Agriculture and Farmers Welfare of India](https://aps.dac.gov.in/)"
   ]
  },
  {
   "cell_type": "markdown",
   "id": "d3570af8",
   "metadata": {},
   "source": [
    "נעזרנו באח של קוליה אהרון - פורת אהרון על מנת להפיק את הגרפים של המפות"
   ]
  }
 ],
 "metadata": {
  "kernelspec": {
   "display_name": "Python 3 (ipykernel)",
   "language": "python",
   "name": "python3"
  },
  "language_info": {
   "codemirror_mode": {
    "name": "ipython",
    "version": 3
   },
   "file_extension": ".py",
   "mimetype": "text/x-python",
   "name": "python",
   "nbconvert_exporter": "python",
   "pygments_lexer": "ipython3",
   "version": "3.11.5"
  }
 },
 "nbformat": 4,
 "nbformat_minor": 5
}
